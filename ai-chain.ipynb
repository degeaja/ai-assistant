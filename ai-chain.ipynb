{
 "cells": [
  {
   "cell_type": "code",
   "execution_count": 1,
   "metadata": {},
   "outputs": [],
   "source": [
    "#import system packages\n",
    "import os\n",
    "import sys\n",
    "\n",
    "#import vectorstores modules\n",
    "import chromadb\n",
    "# embeddings uses 384 dimensions, and named sentence-transformers/all-MiniLM-L6-v2\n",
    "from chromadb.utils import embedding_functions\n",
    "from langchain.vectorstores.chroma import Chroma\n",
    "from langchain_core.embeddings import Embeddings\n",
    "from chromadb.api.types import EmbeddingFunction\n",
    "from langchain_chroma import Chroma\n",
    "\n",
    "#import langchain modules\n",
    "from langchain_ollama import ChatOllama\n",
    "from langchain_core.documents import Document\n",
    "from langchain_text_splitters import RecursiveCharacterTextSplitter\n",
    "from langchain_community.document_loaders import (unstructured,\n",
    "                                                  UnstructuredExcelLoader,\n",
    "                                                  CSVLoader,\n",
    "                                                  PyMuPDFLoader,\n",
    "                                                  Docx2txtLoader,\n",
    "                                                 )\n",
    "from langchain import hub\n",
    "from langchain_core.output_parsers import StrOutputParser\n",
    "from langchain_core.runnables import RunnablePassthrough\n",
    "from langchain_core.prompts import ChatPromptTemplate"
   ]
  },
  {
   "cell_type": "code",
   "execution_count": 2,
   "metadata": {},
   "outputs": [],
   "source": [
    "llm = ChatOllama(\n",
    "   model=\"llama3\",\n",
    "   temperature=0,)"
   ]
  },
  {
   "cell_type": "code",
   "execution_count": 3,
   "metadata": {},
   "outputs": [],
   "source": [
    "class ChromaEmbeddingsAdapter(Embeddings):\n",
    "    def __init__(self, ef: EmbeddingFunction):\n",
    "        self.ef = ef\n",
    "\n",
    "    def embed_documents(self, texts):\n",
    "        return self.ef(texts)\n",
    "\n",
    "    def embed_query(self, query):\n",
    "        return self.ef([query])[0]\n",
    "embeddings = ChromaEmbeddingsAdapter(embedding_functions.DefaultEmbeddingFunction())\n",
    "\n",
    "collection_name = \"ntu_documents\"\n",
    "client = chromadb.PersistentClient(\"database/\")"
   ]
  },
  {
   "cell_type": "code",
   "execution_count": 4,
   "metadata": {},
   "outputs": [],
   "source": [
    "datapath = \"D:/NTU File/Semester 6/Intro to Philosophy/\"\n",
    "def pdf_load(file_path):\n",
    "    documents = []\n",
    "    for file in os.listdir(file_path):\n",
    "        path = file_path + file\n",
    "        loader = PyMuPDFLoader(path)\n",
    "        pdf_doc = loader.load()\n",
    "        documents.extend(pdf_doc)\n",
    "    return documents\n",
    "post = pdf_load(datapath)"
   ]
  },
  {
   "cell_type": "code",
   "execution_count": 13,
   "metadata": {},
   "outputs": [],
   "source": [
    "vectorstore = Chroma.from_documents(documents = post, embedding = embeddings, collection_name = collection_name)\n",
    "#vectorstore = Chroma(collection_name,embeddings)\n",
    "retriever = vectorstore.as_retriever()"
   ]
  },
  {
   "cell_type": "code",
   "execution_count": 14,
   "metadata": {},
   "outputs": [],
   "source": [
    "def format_docs(docs):\n",
    "    return \"\\n\\n\".join(doc.page_content for doc in docs)"
   ]
  },
  {
   "cell_type": "code",
   "execution_count": 16,
   "metadata": {},
   "outputs": [
    {
     "name": "stdout",
     "output_type": "stream",
     "text": [
      "Based on the provided context, philosophy is a discipline that involves reflecting upon the foundations of almost everything, taking doubts seriously. It's about questioning what we know and seeking good reasons for our beliefs and judgments. Philosophy is also concerned with normativity, exploring what counts as a good reason and what criteria should be used to evaluate knowledge.\n"
     ]
    }
   ],
   "source": [
    "prompt = hub.pull(\"rlm/rag-prompt\")\n",
    "rag_chain = (\n",
    "    {\"context\": retriever | format_docs, \"question\": RunnablePassthrough()}\n",
    "    | prompt\n",
    "    | llm\n",
    "    | StrOutputParser()\n",
    ")\n",
    "\n",
    "print(rag_chain.invoke(\"what do you know about philosophy\"))"
   ]
  },
  {
   "cell_type": "code",
   "execution_count": null,
   "metadata": {},
   "outputs": [],
   "source": []
  }
 ],
 "metadata": {
  "kernelspec": {
   "display_name": "python310_langchain",
   "language": "python",
   "name": "python3"
  },
  "language_info": {
   "codemirror_mode": {
    "name": "ipython",
    "version": 3
   },
   "file_extension": ".py",
   "mimetype": "text/x-python",
   "name": "python",
   "nbconvert_exporter": "python",
   "pygments_lexer": "ipython3",
   "version": "3.10.14"
  }
 },
 "nbformat": 4,
 "nbformat_minor": 2
}
